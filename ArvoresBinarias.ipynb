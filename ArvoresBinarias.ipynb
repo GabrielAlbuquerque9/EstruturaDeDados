{
  "nbformat": 4,
  "nbformat_minor": 0,
  "metadata": {
    "colab": {
      "provenance": [],
      "authorship_tag": "ABX9TyPBF/x8lIYjfZDiuZM2fJPW",
      "include_colab_link": true
    },
    "kernelspec": {
      "name": "python3",
      "display_name": "Python 3"
    },
    "language_info": {
      "name": "python"
    }
  },
  "cells": [
    {
      "cell_type": "markdown",
      "metadata": {
        "id": "view-in-github",
        "colab_type": "text"
      },
      "source": [
        "<a href=\"https://colab.research.google.com/github/GabrielAlbuquerque9/EstruturaDeDados/blob/main/ArvoresBinarias.ipynb\" target=\"_parent\"><img src=\"https://colab.research.google.com/assets/colab-badge.svg\" alt=\"Open In Colab\"/></a>"
      ]
    },
    {
      "cell_type": "markdown",
      "source": [
        "**Árvores:**\n",
        "\n",
        "- Uma árvore é uma estrutura de dados não linear que representa uma estrutura hierárquica.\n",
        "\n",
        "- Características das árvores:\n",
        "\n",
        "- Raiz: Nó no topo da árvore que não possui pai.\n",
        "\n",
        "- Nó interior: Nó que não é a raiz e possui descendentes.\n",
        "\n",
        "- Nó terminal (folha): Nó que não possui descendentes.\n",
        "\n",
        "- Trajetória: Sequência de nós que devem ser percorridos até um determinado nó.\n",
        "\n",
        "- Grau do nó: Número de descendentes diretos de um nó.\n",
        "\n",
        "- Grau da árvore: Maior grau entre todos os nós da árvore.\n",
        "\n",
        "- Altura da árvore: Número máximo de níveis de seus nós.\n",
        "\n",
        "- Árvores Binárias: São árvores onde cada nó pode ter no máximo dois filhos: um à esquerda e um à direita.\n",
        "\n",
        "- Em árvores binárias de busca, os nós da subárvore esquerda possuem valores menores que o nó pai, e os nós da subárvore direita possuem valores maiores.\n",
        "\n",
        "- Classe BTreeNo: É apresentado um código em C# para a estrutura de um nó em uma árvore binária, contendo um valor (valor), uma referência para o filho esquerdo (esq) e uma referência para o filho direito (dir).\n",
        "\n",
        "- Inserção em uma árvore binária: É apresentado um método em C# (insereNo) para inserir um novo nó em uma árvore binária de busca, mantendo a propriedade de ordenação.\n",
        "\n",
        "- Exclusão de um nó em uma árvore binária: É apresentado um método em C# (exibirNo) para exibir um nó e métodos (exibirEsquerdo e exibirDireito) para exibir as subárvores esquerda e direita. Um método mais complexo (excluirNo) para a exclusão de um nó em uma árvore binária de busca também é apresentado.\n",
        "\n",
        "- Busca em uma árvore binária: É mencionado que a busca em árvores binárias de busca é feita comparando o valor procurado com o valor do nó atual, movendo-se para a esquerda se for menor e para a direita se for maior."
      ],
      "metadata": {
        "id": "BUlBTDMF_Gu3"
      }
    }
  ]
}