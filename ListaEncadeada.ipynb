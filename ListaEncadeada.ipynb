{
  "nbformat": 4,
  "nbformat_minor": 0,
  "metadata": {
    "colab": {
      "provenance": [],
      "authorship_tag": "ABX9TyM83i1QiZAXaYZ13meZUSYZ",
      "include_colab_link": true
    },
    "kernelspec": {
      "name": "python3",
      "display_name": "Python 3"
    },
    "language_info": {
      "name": "python"
    }
  },
  "cells": [
    {
      "cell_type": "markdown",
      "metadata": {
        "id": "view-in-github",
        "colab_type": "text"
      },
      "source": [
        "<a href=\"https://colab.research.google.com/github/GabrielAlbuquerque9/EstruturaDeDados/blob/main/ListaEncadeada.ipynb\" target=\"_parent\"><img src=\"https://colab.research.google.com/assets/colab-badge.svg\" alt=\"Open In Colab\"/></a>"
      ]
    },
    {
      "cell_type": "markdown",
      "source": [
        "- Uma lista ligada é uma estrutura de dados linear onde os elementos não estão armazenados necessariamente em posições adjacentes na memória. Os elementos (nós) são compostos por um dado e um ponteiro (referência) para o próximo elemento da lista\n",
        "- O primeiro elemento é chamado de cabeça (primeiro elemento) e o último elemento aponta para nulo.\n",
        "- As listas ligadas podem ser classificadas em:"
      ],
      "metadata": {
        "id": "QTHXbGaNuQPU"
      }
    },
    {
      "cell_type": "markdown",
      "source": [
        "**ENCADEADAS SIMPLES:** Cada nó contém um único ponteiro para o próximo nó:"
      ],
      "metadata": {
        "id": "vyf5-duluJGs"
      }
    },
    {
      "cell_type": "markdown",
      "source": [
        "**DUPLAMENTE ENCADEADAS**:\n",
        "Cada nó contém dois ponteiros: um para o próximo nó e outro para o nó anterior:"
      ],
      "metadata": {
        "id": "yTx_K9Zftkv5"
      }
    },
    {
      "cell_type": "markdown",
      "source": [
        "**CIRCULARES:** O último nó aponta para o primeiro nó.\n",
        "- As operações básicas em listas ligadas incluem inicialização/criação inserção, eliminação e busca de elementos"
      ],
      "metadata": {
        "id": "018jvuK1uhn6"
      }
    },
    {
      "cell_type": "markdown",
      "source": [
        "**CRIAÇÃO DE UM NÓ:** É apresentado um código em C# para definir a estrutura de um nó (classe Node) com um dado (item) e uma referência para o próximo nó (prox)"
      ],
      "metadata": {
        "id": "hODh4qZ6vS3w"
      }
    },
    {
      "cell_type": "code",
      "source": [
        "class Node\n",
        "{\n",
        "    private Object item;\n",
        "    private Node prox;\n",
        "    Node(Object item)\n",
        "    {\n",
        "        this.item - item;\n",
        "        prox = null;\n",
        "    }\n",
        "}"
      ],
      "metadata": {
        "id": "kBNM3qakvqs0"
      },
      "execution_count": null,
      "outputs": []
    },
    {
      "cell_type": "markdown",
      "source": [
        "**INSERÇÃO EM UMA LISTA:** É mostrado um código em C# para a inserção em uma lista ligada simples (classe ListaSimples) com métodos para inserir no início (insereInicio), no final (insereFinal) e em uma posição específica (inserePosicao)"
      ],
      "metadata": {
        "id": "wLSrxWHZwOgK"
      }
    },
    {
      "cell_type": "code",
      "source": [
        "public class ListaSimples {\n",
        "    private Node primeiro;\n",
        "    private Node ultimo;\n",
        "    private int qtdnos;\n",
        "\n",
        "    public ListaSimples() {\n",
        "        primeiro = null;\n",
        "        ultimo = null;\n",
        "        qtdnos = 0;\n",
        "    }\n",
        "\n",
        "    public void insereInicio(Node novo) {\n",
        "        novo.setProx(primeiro);\n",
        "        primeiro = novo;\n",
        "        if (this.ultimo == null) {\n",
        "            this.ultimo = novo;\n",
        "        }\n",
        "        this.qtdnos++;\n",
        "    }\n",
        "\n",
        "    public void insereFinal(Node novo) {\n",
        "        if (this.primeiro == null) {\n",
        "            this.primeiro = novo;\n",
        "        } else {\n",
        "            this.ultimo.setProx(novo);\n",
        "        }\n",
        "        this.ultimo = novo;\n",
        "        this.qtdnos++;\n",
        "    }\n",
        "\n",
        "    public void inserePosicao(Node novo, int pos) {\n",
        "        Node aux = primeiro;\n",
        "        int pos_aux = 1;\n",
        "        if (qtdnos() < pos) {\n",
        "            // Lógica para inserir no final se a posição for maior que o número de nós\n",
        "            if (ultimo != null) {\n",
        "                ultimo.setProx(novo);\n",
        "                ultimo = novo;\n",
        "            } else {\n",
        "                primeiro = novo;\n",
        "                ultimo = novo;\n",
        "            }\n",
        "        } else {\n",
        "            if (pos <= 0) {\n",
        "                novo.setProx(primeiro);\n",
        "                primeiro = novo;\n",
        "                if (primeiro == ultimo) {\n",
        "                    ultimo = novo;\n",
        "                }\n",
        "            } else {\n",
        "                if (pos == 1) {\n",
        "                    novo.setProx(primeiro);\n",
        "                    primeiro = novo;\n",
        "                } else {\n",
        "                    pos_aux = 1;\n",
        "                    aux = primeiro;\n",
        "                    while (aux != null && pos_aux < (pos - 1)) {\n",
        "                        aux = aux.getProx();\n",
        "                        pos_aux++;\n",
        "                    }\n",
        "                    if (aux != null) {\n",
        "                        novo.setProx(aux.getProx());\n",
        "                        aux.setProx(novo);\n",
        "                    } else {\n",
        "                        // Lógica para lidar com posição inválida (maior que o número de nós - já tratado no início)\n",
        "                    }\n",
        "                }\n",
        "            }\n",
        "            this.qtdnos++;\n",
        "        }\n",
        "    }\n",
        "\n",
        "    public void insereEmOrdem(Node novo) {\n",
        "        if (primeiro == null || ((Comparable)novo.getItem()).CompareTo(primeiro.getItem()) <= 0) {\n",
        "            novo.setProx(primeiro);\n",
        "            primeiro = novo;\n",
        "            if (ultimo == null) {\n",
        "                ultimo = novo;\n",
        "            }\n",
        "        } else {\n",
        "            Node aux = primeiro;\n",
        "            while (aux.getProx() != null && ((Comparable)novo.getItem()).CompareTo(aux.getProx().getItem()) > 0) {\n",
        "                aux = aux.getProx();\n",
        "            }\n",
        "            novo.setProx(aux.getProx());\n",
        "            aux.setProx(novo);\n",
        "            if (novo.getProx() == null) {\n",
        "                ultimo = novo;\n",
        "            }\n",
        "        }\n",
        "        this.qtdnos++;\n",
        "    }\n",
        "\n",
        "    public void exclui(object item) {\n",
        "        if (primeiro == null) {\n",
        "            return;\n",
        "        }\n",
        "        if (primeiro.getItem().Equals(item)) {\n",
        "            primeiro = primeiro.getProx();\n",
        "            if (primeiro == null) {\n",
        "                ultimo = null;\n",
        "            }\n",
        "            this.qtdnos--;\n",
        "            return;\n",
        "        }\n",
        "        Node aux = primeiro;\n",
        "        while (aux.getProx() != null && !aux.getProx().getItem().Equals(item)) {\n",
        "            aux = aux.getProx();\n",
        "        }\n",
        "        if (aux.getProx() != null) {\n",
        "            aux.setProx(aux.getProx().getProx());\n",
        "            if (aux.getProx() == null) {\n",
        "                ultimo = aux;\n",
        "            }\n",
        "            this.qtdnos--;\n",
        "        }\n",
        "    }\n",
        "\n",
        "    public int qtdnos() {\n",
        "        int tam = 0;\n",
        "        Node aux = primeiro;\n",
        "        while (aux != null) {\n",
        "            tam++;\n",
        "            aux = aux.getProx();\n",
        "        }\n",
        "        return tam;\n"
      ],
      "metadata": {
        "id": "SvY7Ec_Fw-Da"
      },
      "execution_count": null,
      "outputs": []
    },
    {
      "cell_type": "markdown",
      "source": [
        "**EXCLUSÃO DE UM ELEMENTO** É apresentado um código em C# para excluir um elemento de uma lista ligada simples (método excluiNo)"
      ],
      "metadata": {
        "id": "cIrJrlm_y61a"
      }
    },
    {
      "cell_type": "code",
      "source": [
        "void excluiNo (Object Item)\n",
        "{\n",
        "    Node aux = primeiro:\n",
        "    while (aux !+ null && aux.getItem()!=item)\n",
        "    {\n",
        "          aux = aux.getProx();\n",
        "    }\n",
        "           aux.set.Prox(aux.getProx());\n",
        "           if (ultimo == aux.getProx())\n",
        "           ultimo = aux;\n",
        "}"
      ],
      "metadata": {
        "id": "Tj2KgEwDzO9q"
      },
      "execution_count": null,
      "outputs": []
    },
    {
      "cell_type": "markdown",
      "source": [
        "**BUSCA DE UM ELEMENTO:** É apresentado um código em C# para buscar um elemento em uma lista ligada simples (método buscaNo)"
      ],
      "metadata": {
        "id": "txUnJbUDz_wp"
      }
    },
    {
      "cell_type": "markdown",
      "source": [
        "![ListaDuplamenteEncadeada.png](data:image/png;base64,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)"
      ],
      "metadata": {
        "id": "wL66XUAQH-Mx"
      }
    }
  ]
}